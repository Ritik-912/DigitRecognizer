{
 "cells": [
  {
   "cell_type": "markdown",
   "metadata": {},
   "source": [
    "# Working with data"
   ]
  },
  {
   "cell_type": "code",
   "execution_count": 13,
   "metadata": {},
   "outputs": [
    {
     "name": "stdout",
     "output_type": "stream",
     "text": [
      "Requirement already satisfied: torch in c:\\users\\ritik\\appdata\\local\\programs\\python\\python312\\lib\\site-packages (2.2.0)\n",
      "Requirement already satisfied: filelock in c:\\users\\ritik\\appdata\\local\\programs\\python\\python312\\lib\\site-packages (from torch) (3.13.1)\n",
      "Requirement already satisfied: typing-extensions>=4.8.0 in c:\\users\\ritik\\appdata\\local\\programs\\python\\python312\\lib\\site-packages (from torch) (4.9.0)\n",
      "Requirement already satisfied: sympy in c:\\users\\ritik\\appdata\\local\\programs\\python\\python312\\lib\\site-packages (from torch) (1.12)\n",
      "Requirement already satisfied: networkx in c:\\users\\ritik\\appdata\\local\\programs\\python\\python312\\lib\\site-packages (from torch) (3.2.1)\n",
      "Requirement already satisfied: jinja2 in c:\\users\\ritik\\appdata\\local\\programs\\python\\python312\\lib\\site-packages (from torch) (3.1.3)\n",
      "Requirement already satisfied: fsspec in c:\\users\\ritik\\appdata\\local\\programs\\python\\python312\\lib\\site-packages (from torch) (2024.2.0)\n",
      "Requirement already satisfied: MarkupSafe>=2.0 in c:\\users\\ritik\\appdata\\local\\programs\\python\\python312\\lib\\site-packages (from jinja2->torch) (2.1.5)\n",
      "Requirement already satisfied: mpmath>=0.19 in c:\\users\\ritik\\appdata\\local\\programs\\python\\python312\\lib\\site-packages (from sympy->torch) (1.3.0)\n",
      "Note: you may need to restart the kernel to use updated packages.\n"
     ]
    },
    {
     "name": "stderr",
     "output_type": "stream",
     "text": [
      "\n",
      "[notice] A new release of pip is available: 23.3.2 -> 24.0\n",
      "[notice] To update, run: python.exe -m pip install --upgrade pip\n"
     ]
    }
   ],
   "source": [
    "%pip install torch"
   ]
  },
  {
   "cell_type": "code",
   "execution_count": 14,
   "metadata": {},
   "outputs": [
    {
     "name": "stdout",
     "output_type": "stream",
     "text": [
      "Requirement already satisfied: torchvision in c:\\users\\ritik\\appdata\\local\\programs\\python\\python312\\lib\\site-packages (0.17.0)\n",
      "Requirement already satisfied: numpy in c:\\users\\ritik\\appdata\\local\\programs\\python\\python312\\lib\\site-packages (from torchvision) (1.26.3)\n",
      "Requirement already satisfied: requests in c:\\users\\ritik\\appdata\\local\\programs\\python\\python312\\lib\\site-packages (from torchvision) (2.31.0)\n",
      "Requirement already satisfied: torch==2.2.0 in c:\\users\\ritik\\appdata\\local\\programs\\python\\python312\\lib\\site-packages (from torchvision) (2.2.0)\n",
      "Requirement already satisfied: pillow!=8.3.*,>=5.3.0 in c:\\users\\ritik\\appdata\\local\\programs\\python\\python312\\lib\\site-packages (from torchvision) (10.2.0)\n",
      "Requirement already satisfied: filelock in c:\\users\\ritik\\appdata\\local\\programs\\python\\python312\\lib\\site-packages (from torch==2.2.0->torchvision) (3.13.1)\n",
      "Requirement already satisfied: typing-extensions>=4.8.0 in c:\\users\\ritik\\appdata\\local\\programs\\python\\python312\\lib\\site-packages (from torch==2.2.0->torchvision) (4.9.0)\n",
      "Requirement already satisfied: sympy in c:\\users\\ritik\\appdata\\local\\programs\\python\\python312\\lib\\site-packages (from torch==2.2.0->torchvision) (1.12)\n",
      "Requirement already satisfied: networkx in c:\\users\\ritik\\appdata\\local\\programs\\python\\python312\\lib\\site-packages (from torch==2.2.0->torchvision) (3.2.1)\n",
      "Requirement already satisfied: jinja2 in c:\\users\\ritik\\appdata\\local\\programs\\python\\python312\\lib\\site-packages (from torch==2.2.0->torchvision) (3.1.3)\n",
      "Requirement already satisfied: fsspec in c:\\users\\ritik\\appdata\\local\\programs\\python\\python312\\lib\\site-packages (from torch==2.2.0->torchvision) (2024.2.0)\n",
      "Requirement already satisfied: charset-normalizer<4,>=2 in c:\\users\\ritik\\appdata\\local\\programs\\python\\python312\\lib\\site-packages (from requests->torchvision) (3.3.2)\n",
      "Requirement already satisfied: idna<4,>=2.5 in c:\\users\\ritik\\appdata\\local\\programs\\python\\python312\\lib\\site-packages (from requests->torchvision) (3.6)\n",
      "Requirement already satisfied: urllib3<3,>=1.21.1 in c:\\users\\ritik\\appdata\\local\\programs\\python\\python312\\lib\\site-packages (from requests->torchvision) (1.26.18)\n",
      "Requirement already satisfied: certifi>=2017.4.17 in c:\\users\\ritik\\appdata\\local\\programs\\python\\python312\\lib\\site-packages (from requests->torchvision) (2024.2.2)\n",
      "Requirement already satisfied: MarkupSafe>=2.0 in c:\\users\\ritik\\appdata\\local\\programs\\python\\python312\\lib\\site-packages (from jinja2->torch==2.2.0->torchvision) (2.1.5)\n",
      "Requirement already satisfied: mpmath>=0.19 in c:\\users\\ritik\\appdata\\local\\programs\\python\\python312\\lib\\site-packages (from sympy->torch==2.2.0->torchvision) (1.3.0)\n",
      "Note: you may need to restart the kernel to use updated packages.\n"
     ]
    },
    {
     "name": "stderr",
     "output_type": "stream",
     "text": [
      "\n",
      "[notice] A new release of pip is available: 23.3.2 -> 24.0\n",
      "[notice] To update, run: python.exe -m pip install --upgrade pip\n"
     ]
    }
   ],
   "source": [
    "%pip install torchvision"
   ]
  },
  {
   "cell_type": "code",
   "execution_count": 15,
   "metadata": {},
   "outputs": [],
   "source": [
    "import torch\n",
    "import pandas as pd\n",
    "from torch import nn\n",
    "from torch.utils.data import DataLoader, TensorDataset\n",
    "from torchvision import datasets\n",
    "from torchvision.transforms import ToTensor\n",
    "from torch import Tensor"
   ]
  },
  {
   "cell_type": "code",
   "execution_count": 17,
   "metadata": {},
   "outputs": [
    {
     "name": "stdout",
     "output_type": "stream",
     "text": [
      "Downloading http://yann.lecun.com/exdb/mnist/train-images-idx3-ubyte.gz\n",
      "Downloading http://yann.lecun.com/exdb/mnist/train-images-idx3-ubyte.gz to ./data\\MNIST\\raw\\train-images-idx3-ubyte.gz\n"
     ]
    },
    {
     "name": "stderr",
     "output_type": "stream",
     "text": [
      "100%|██████████| 9912422/9912422 [00:01<00:00, 5132236.78it/s]\n"
     ]
    },
    {
     "name": "stdout",
     "output_type": "stream",
     "text": [
      "Extracting ./data\\MNIST\\raw\\train-images-idx3-ubyte.gz to ./data\\MNIST\\raw\n",
      "\n",
      "Downloading http://yann.lecun.com/exdb/mnist/train-labels-idx1-ubyte.gz\n",
      "Downloading http://yann.lecun.com/exdb/mnist/train-labels-idx1-ubyte.gz to ./data\\MNIST\\raw\\train-labels-idx1-ubyte.gz\n"
     ]
    },
    {
     "name": "stderr",
     "output_type": "stream",
     "text": [
      "100%|██████████| 28881/28881 [00:00<00:00, 3735182.20it/s]\n"
     ]
    },
    {
     "name": "stdout",
     "output_type": "stream",
     "text": [
      "Extracting ./data\\MNIST\\raw\\train-labels-idx1-ubyte.gz to ./data\\MNIST\\raw\n",
      "\n",
      "Downloading http://yann.lecun.com/exdb/mnist/t10k-images-idx3-ubyte.gz\n",
      "Downloading http://yann.lecun.com/exdb/mnist/t10k-images-idx3-ubyte.gz to ./data\\MNIST\\raw\\t10k-images-idx3-ubyte.gz\n"
     ]
    },
    {
     "name": "stderr",
     "output_type": "stream",
     "text": [
      "100%|██████████| 1648877/1648877 [00:01<00:00, 1241540.37it/s]\n"
     ]
    },
    {
     "name": "stdout",
     "output_type": "stream",
     "text": [
      "Extracting ./data\\MNIST\\raw\\t10k-images-idx3-ubyte.gz to ./data\\MNIST\\raw\n",
      "\n",
      "Downloading http://yann.lecun.com/exdb/mnist/t10k-labels-idx1-ubyte.gz\n",
      "Downloading http://yann.lecun.com/exdb/mnist/t10k-labels-idx1-ubyte.gz to ./data\\MNIST\\raw\\t10k-labels-idx1-ubyte.gz\n"
     ]
    },
    {
     "name": "stderr",
     "output_type": "stream",
     "text": [
      "100%|██████████| 4542/4542 [00:00<?, ?it/s]"
     ]
    },
    {
     "name": "stdout",
     "output_type": "stream",
     "text": [
      "Extracting ./data\\MNIST\\raw\\t10k-labels-idx1-ubyte.gz to ./data\\MNIST\\raw\n",
      "\n",
      "Size of the training dataset: 60000\n",
      "Size of the test dataset: 10000\n"
     ]
    },
    {
     "name": "stderr",
     "output_type": "stream",
     "text": [
      "\n"
     ]
    }
   ],
   "source": [
    "# Load the MNIST dataset\n",
    "train_dataset = datasets.MNIST(root='./data', train=True, download=True, transform=ToTensor())\n",
    "test_dataset = datasets.MNIST(root='./data', train=False, download=True, transform=ToTensor())\n",
    "\n",
    "# Print the size of the training and test datasets\n",
    "print(\"Size of the training dataset:\", len(train_dataset))\n",
    "print(\"Size of the test dataset:\", len(test_dataset))\n",
    "\n",
    "# Define batch size\n",
    "batch_size = 64\n",
    "\n",
    "# Create DataLoader instances for Train_data and Test_data\n",
    "train_loader = DataLoader(train_dataset, batch_size=batch_size, shuffle=True)\n",
    "test_loader = DataLoader(test_dataset, batch_size=batch_size, shuffle=True)"
   ]
  },
  {
   "cell_type": "code",
   "execution_count": 20,
   "metadata": {},
   "outputs": [],
   "source": [
    "class NeuralNetwork(nn.Module):\n",
    "    def __init__(self):\n",
    "        super().__init__()\n",
    "        self.flatten = nn.Flatten()\n",
    "        self.linear_relu_stack = nn.Sequential(\n",
    "            nn.Linear(28*28, 512),\n",
    "            nn.ReLU(),\n",
    "            nn.Linear(512, 512),\n",
    "            nn.ReLU(),\n",
    "            nn.Linear(512, 10),\n",
    "        )\n",
    "\n",
    "    def forward(self, x):\n",
    "        x = self.flatten(x)\n",
    "        logits = self.linear_relu_stack(x)\n",
    "        return logits"
   ]
  },
  {
   "cell_type": "code",
   "execution_count": 21,
   "metadata": {},
   "outputs": [
    {
     "name": "stdout",
     "output_type": "stream",
     "text": [
      "NeuralNetwork(\n",
      "  (flatten): Flatten(start_dim=1, end_dim=-1)\n",
      "  (linear_relu_stack): Sequential(\n",
      "    (0): Linear(in_features=784, out_features=512, bias=True)\n",
      "    (1): ReLU()\n",
      "    (2): Linear(in_features=512, out_features=512, bias=True)\n",
      "    (3): ReLU()\n",
      "    (4): Linear(in_features=512, out_features=10, bias=True)\n",
      "  )\n",
      ")\n"
     ]
    }
   ],
   "source": [
    "model = NeuralNetwork()\n",
    "print(model)"
   ]
  },
  {
   "cell_type": "code",
   "execution_count": 22,
   "metadata": {},
   "outputs": [],
   "source": [
    "learning_rate = 1e-3\n",
    "batch_size = 198\n",
    "epochs = 9\n",
    "loss_fn = nn.CrossEntropyLoss()\n",
    "optimizer = torch.optim.SGD(model.parameters(), lr=learning_rate)"
   ]
  },
  {
   "cell_type": "code",
   "execution_count": 23,
   "metadata": {},
   "outputs": [],
   "source": [
    "def train_loop(dataloader, model, loss_fn, optimizer):\n",
    "    size = len(dataloader.dataset)\n",
    "    # Set the model to training mode - important for batch normalization and dropout layers\n",
    "    # Unnecessary in this situation but added for best practices\n",
    "    model.train()\n",
    "    for batch, (X, y) in enumerate(dataloader):\n",
    "        # Compute prediction and loss\n",
    "        pred = model(X)\n",
    "        loss = loss_fn(pred, y)\n",
    "\n",
    "        # Backpropagation\n",
    "        loss.backward()\n",
    "        optimizer.step()\n",
    "        optimizer.zero_grad()\n",
    "\n",
    "        if batch % 100 == 0:\n",
    "            loss, current = loss.item(), batch * batch_size + len(X)\n",
    "            print(f\"loss: {loss:>7f}  [{current:>5d}/{size:>5d}]\")\n",
    "\n",
    "\n",
    "def test_loop(dataloader, model, loss_fn):\n",
    "    # Set the model to evaluation mode - important for batch normalization and dropout layers\n",
    "    # Unnecessary in this situation but added for best practices\n",
    "    model.eval()\n",
    "    size = len(dataloader.dataset)\n",
    "    num_batches = len(dataloader)\n",
    "    test_loss, correct = 0, 0\n",
    "\n",
    "    # Evaluating the model with torch.no_grad() ensures that no gradients are computed during test mode\n",
    "    # also serves to reduce unnecessary gradient computations and memory usage for tensors with requires_grad=True\n",
    "    with torch.no_grad():\n",
    "        for X, y in dataloader:\n",
    "            pred = model(X)\n",
    "            test_loss += loss_fn(pred, y).item()\n",
    "            correct += (pred.argmax(1) == y).type(torch.float).sum().item()\n",
    "\n",
    "    test_loss /= num_batches\n",
    "    correct /= size\n",
    "    print(f\"Test Error: \\n Accuracy: {(100*correct):>0.1f}%, Avg loss: {test_loss:>8f} \\n\")"
   ]
  },
  {
   "cell_type": "code",
   "execution_count": 24,
   "metadata": {},
   "outputs": [
    {
     "name": "stdout",
     "output_type": "stream",
     "text": [
      "Layer: linear_relu_stack.0.weight | Size: torch.Size([512, 784]) | Values : tensor([[ 0.0355,  0.0286,  0.0282,  ..., -0.0248,  0.0182,  0.0184],\n",
      "        [-0.0022,  0.0244, -0.0228,  ...,  0.0124,  0.0181,  0.0021]],\n",
      "       grad_fn=<SliceBackward0>) \n",
      "\n",
      "Layer: linear_relu_stack.0.bias | Size: torch.Size([512]) | Values : tensor([ 0.0232, -0.0324], grad_fn=<SliceBackward0>) \n",
      "\n",
      "Layer: linear_relu_stack.2.weight | Size: torch.Size([512, 512]) | Values : tensor([[ 0.0009, -0.0105,  0.0273,  ...,  0.0096,  0.0176, -0.0240],\n",
      "        [ 0.0362, -0.0319,  0.0143,  ...,  0.0222, -0.0129, -0.0317]],\n",
      "       grad_fn=<SliceBackward0>) \n",
      "\n",
      "Layer: linear_relu_stack.2.bias | Size: torch.Size([512]) | Values : tensor([ 0.0161, -0.0421], grad_fn=<SliceBackward0>) \n",
      "\n",
      "Layer: linear_relu_stack.4.weight | Size: torch.Size([10, 512]) | Values : tensor([[-0.0430, -0.0124, -0.0026,  ...,  0.0155,  0.0339,  0.0398],\n",
      "        [-0.0159,  0.0196,  0.0355,  ...,  0.0174,  0.0054,  0.0417]],\n",
      "       grad_fn=<SliceBackward0>) \n",
      "\n",
      "Layer: linear_relu_stack.4.bias | Size: torch.Size([10]) | Values : tensor([-0.0196, -0.0132], grad_fn=<SliceBackward0>) \n",
      "\n"
     ]
    }
   ],
   "source": [
    "for name, param in model.named_parameters():\n",
    "    print(f\"Layer: {name} | Size: {param.size()} | Values : {param[:2]} \\n\")"
   ]
  },
  {
   "cell_type": "code",
   "execution_count": 25,
   "metadata": {},
   "outputs": [
    {
     "name": "stdout",
     "output_type": "stream",
     "text": [
      "Epoch 1\n",
      "-------------------------------\n",
      "loss: 2.298172  [   64/60000]\n",
      "loss: 2.300147  [19864/60000]\n",
      "loss: 2.292028  [39664/60000]\n",
      "loss: 2.290482  [59464/60000]\n",
      "loss: 2.289212  [79264/60000]\n",
      "loss: 2.274324  [99064/60000]\n",
      "loss: 2.280329  [118864/60000]\n",
      "loss: 2.267577  [138664/60000]\n",
      "loss: 2.261220  [158464/60000]\n",
      "loss: 2.262212  [178264/60000]\n",
      "Test Error: \n",
      " Accuracy: 36.1%, Avg loss: 2.256245 \n",
      "\n",
      "Epoch 2\n",
      "-------------------------------\n",
      "loss: 2.256849  [   64/60000]\n",
      "loss: 2.248371  [19864/60000]\n",
      "loss: 2.248644  [39664/60000]\n",
      "loss: 2.248408  [59464/60000]\n",
      "loss: 2.232877  [79264/60000]\n",
      "loss: 2.224309  [99064/60000]\n",
      "loss: 2.207520  [118864/60000]\n",
      "loss: 2.207941  [138664/60000]\n",
      "loss: 2.218373  [158464/60000]\n",
      "loss: 2.185412  [178264/60000]\n",
      "Test Error: \n",
      " Accuracy: 61.6%, Avg loss: 2.192158 \n",
      "\n",
      "Epoch 3\n",
      "-------------------------------\n",
      "loss: 2.186047  [   64/60000]\n",
      "loss: 2.193542  [19864/60000]\n",
      "loss: 2.179851  [39664/60000]\n",
      "loss: 2.154667  [59464/60000]\n",
      "loss: 2.164060  [79264/60000]\n",
      "loss: 2.166482  [99064/60000]\n",
      "loss: 2.117823  [118864/60000]\n",
      "loss: 2.098668  [138664/60000]\n",
      "loss: 2.109764  [158464/60000]\n",
      "loss: 2.080552  [178264/60000]\n",
      "Test Error: \n",
      " Accuracy: 67.4%, Avg loss: 2.083872 \n",
      "\n",
      "Epoch 4\n",
      "-------------------------------\n",
      "loss: 2.035239  [   64/60000]\n",
      "loss: 2.115236  [19864/60000]\n",
      "loss: 2.056061  [39664/60000]\n",
      "loss: 2.012674  [59464/60000]\n",
      "loss: 2.017000  [79264/60000]\n",
      "loss: 2.083191  [99064/60000]\n",
      "loss: 1.982541  [118864/60000]\n",
      "loss: 1.978034  [138664/60000]\n",
      "loss: 1.933848  [158464/60000]\n",
      "loss: 1.947265  [178264/60000]\n",
      "Test Error: \n",
      " Accuracy: 71.1%, Avg loss: 1.895320 \n",
      "\n",
      "Epoch 5\n",
      "-------------------------------\n",
      "loss: 1.894883  [   64/60000]\n",
      "loss: 1.873111  [19864/60000]\n",
      "loss: 1.770688  [39664/60000]\n",
      "loss: 1.700371  [59464/60000]\n",
      "loss: 1.806425  [79264/60000]\n",
      "loss: 1.766583  [99064/60000]\n",
      "loss: 1.770301  [118864/60000]\n",
      "loss: 1.677767  [138664/60000]\n",
      "loss: 1.750123  [158464/60000]\n",
      "loss: 1.613896  [178264/60000]\n",
      "Test Error: \n",
      " Accuracy: 73.4%, Avg loss: 1.609329 \n",
      "\n",
      "Epoch 6\n",
      "-------------------------------\n",
      "loss: 1.593016  [   64/60000]\n",
      "loss: 1.624677  [19864/60000]\n",
      "loss: 1.500154  [39664/60000]\n",
      "loss: 1.472888  [59464/60000]\n",
      "loss: 1.465155  [79264/60000]\n",
      "loss: 1.487286  [99064/60000]\n",
      "loss: 1.334915  [118864/60000]\n",
      "loss: 1.481387  [138664/60000]\n",
      "loss: 1.324232  [158464/60000]\n",
      "loss: 1.267288  [178264/60000]\n",
      "Test Error: \n",
      " Accuracy: 77.0%, Avg loss: 1.285607 \n",
      "\n",
      "Epoch 7\n",
      "-------------------------------\n",
      "loss: 1.256506  [   64/60000]\n",
      "loss: 1.395863  [19864/60000]\n",
      "loss: 1.240897  [39664/60000]\n",
      "loss: 1.275171  [59464/60000]\n",
      "loss: 1.295392  [79264/60000]\n",
      "loss: 1.088401  [99064/60000]\n",
      "loss: 1.071139  [118864/60000]\n",
      "loss: 1.140781  [138664/60000]\n",
      "loss: 0.930778  [158464/60000]\n",
      "loss: 1.118975  [178264/60000]\n",
      "Test Error: \n",
      " Accuracy: 80.0%, Avg loss: 1.025365 \n",
      "\n",
      "Epoch 8\n",
      "-------------------------------\n",
      "loss: 0.954840  [   64/60000]\n",
      "loss: 1.023876  [19864/60000]\n",
      "loss: 0.965426  [39664/60000]\n",
      "loss: 0.943951  [59464/60000]\n",
      "loss: 0.968496  [79264/60000]\n",
      "loss: 0.948629  [99064/60000]\n",
      "loss: 0.909236  [118864/60000]\n",
      "loss: 0.824007  [138664/60000]\n",
      "loss: 0.770423  [158464/60000]\n",
      "loss: 0.697467  [178264/60000]\n",
      "Test Error: \n",
      " Accuracy: 81.7%, Avg loss: 0.849093 \n",
      "\n",
      "Epoch 9\n",
      "-------------------------------\n",
      "loss: 0.936411  [   64/60000]\n",
      "loss: 0.825680  [19864/60000]\n",
      "loss: 0.812433  [39664/60000]\n",
      "loss: 0.860352  [59464/60000]\n",
      "loss: 0.756573  [79264/60000]\n",
      "loss: 0.783488  [99064/60000]\n",
      "loss: 0.826504  [118864/60000]\n",
      "loss: 0.683757  [138664/60000]\n",
      "loss: 0.889889  [158464/60000]\n",
      "loss: 0.795502  [178264/60000]\n",
      "Test Error: \n",
      " Accuracy: 83.8%, Avg loss: 0.729873 \n",
      "\n",
      "Done!\n"
     ]
    }
   ],
   "source": [
    "for t in range(epochs):\n",
    "    print(f\"Epoch {t+1}\\n-------------------------------\")\n",
    "    train_loop(train_loader, model, loss_fn, optimizer)\n",
    "    test_loop(test_loader, model, loss_fn)\n",
    "print(\"Done!\")"
   ]
  },
  {
   "cell_type": "code",
   "execution_count": 26,
   "metadata": {},
   "outputs": [],
   "source": [
    "torch.save(model.state_dict(), 'model.pt')"
   ]
  }
 ],
 "metadata": {
  "kernelspec": {
   "display_name": "Python 3",
   "language": "python",
   "name": "python3"
  },
  "language_info": {
   "codemirror_mode": {
    "name": "ipython",
    "version": 3
   },
   "file_extension": ".py",
   "mimetype": "text/x-python",
   "name": "python",
   "nbconvert_exporter": "python",
   "pygments_lexer": "ipython3",
   "version": "3.12.1"
  }
 },
 "nbformat": 4,
 "nbformat_minor": 2
}
